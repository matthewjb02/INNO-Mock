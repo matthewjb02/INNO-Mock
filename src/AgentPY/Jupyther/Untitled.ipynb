{
 "cells": [
  {
   "cell_type": "code",
   "execution_count": 3,
   "id": "1ea020c2-9fd9-439f-9579-7975b6edf30f",
   "metadata": {},
   "outputs": [
    {
     "data": {
      "application/vnd.jupyter.widget-view+json": {
       "model_id": "7c48354b114b44f7aa0dfe421e943ccd",
       "version_major": 2,
       "version_minor": 0
      },
      "text/plain": [
       "IntSlider(value=5, description='Aantal Agents', max=20, min=1)"
      ]
     },
     "metadata": {},
     "output_type": "display_data"
    },
    {
     "data": {
      "application/vnd.jupyter.widget-view+json": {
       "model_id": "99014dcea548440198df9e414282b8ad",
       "version_major": 2,
       "version_minor": 0
      },
      "text/plain": [
       "IntSlider(value=10, description='Aantal Stappen', max=50, min=1)"
      ]
     },
     "metadata": {},
     "output_type": "display_data"
    },
    {
     "data": {
      "application/vnd.jupyter.widget-view+json": {
       "model_id": "451e4be52e8b42fdb22dc6eb4a7b4424",
       "version_major": 2,
       "version_minor": 0
      },
      "text/plain": [
       "Button(description='Start Simulatie', style=ButtonStyle())"
      ]
     },
     "metadata": {},
     "output_type": "display_data"
    }
   ],
   "source": [
    "import ipywidgets as widgets\n",
    "from IPython.display import display\n",
    "import Simulation\n",
    "\n",
    "# UI-componenten\n",
    "agent_slider = widgets.IntSlider(value=5, min=1, max=20, step=1, description='Aantal Agents')\n",
    "step_slider = widgets.IntSlider(value=10, min=1, max=50, step=1, description='Aantal Stappen')\n",
    "run_button = widgets.Button(description=\"Start Simulatie\")\n",
    "\n",
    "def on_run_button_click(b):\n",
    "    \"\"\" Start de simulatie wanneer op de knop wordt gedrukt \"\"\"\n",
    "    Simulation.run_simulation(agent_slider.value, step_slider.value)\n",
    "\n",
    "run_button.on_click(on_run_button_click)\n",
    "\n",
    "# UI weergeven\n",
    "display(agent_slider, step_slider, run_button)"
   ]
  },
  {
   "cell_type": "code",
   "execution_count": null,
   "id": "629124c3-cf2d-470d-89a0-bbcc0c77df49",
   "metadata": {},
   "outputs": [],
   "source": []
  },
  {
   "cell_type": "code",
   "execution_count": null,
   "id": "eb9ca166-ee2a-4f40-a067-e215432102f6",
   "metadata": {},
   "outputs": [],
   "source": []
  }
 ],
 "metadata": {
  "kernelspec": {
   "display_name": "Python 3 (ipykernel)",
   "language": "python",
   "name": "python3"
  },
  "language_info": {
   "codemirror_mode": {
    "name": "ipython",
    "version": 3
   },
   "file_extension": ".py",
   "mimetype": "text/x-python",
   "name": "python",
   "nbconvert_exporter": "python",
   "pygments_lexer": "ipython3",
   "version": "3.9.6"
  }
 },
 "nbformat": 4,
 "nbformat_minor": 5
}
